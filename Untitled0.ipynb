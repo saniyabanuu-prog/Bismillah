{
  "nbformat": 4,
  "nbformat_minor": 0,
  "metadata": {
    "colab": {
      "provenance": []
    },
    "kernelspec": {
      "name": "python3",
      "display_name": "Python 3"
    },
    "language_info": {
      "name": "python"
    }
  },
  "cells": [
    {
      "cell_type": "markdown",
      "source": [
        "#Functions\n"
      ],
      "metadata": {
        "id": "XLgEMtYs3pPv"
      }
    },
    {
      "cell_type": "markdown",
      "source": [
        "1.What is diff btw function and module?\n",
        "  - the diff btw functoion is called\n",
        "  "
      ],
      "metadata": {
        "id": "6hIZhfM_3r4E"
      }
    },
    {
      "cell_type": "markdown",
      "source": [],
      "metadata": {
        "id": "Op4AmM0f5BXb"
      }
    },
    {
      "cell_type": "markdown",
      "source": [],
      "metadata": {
        "id": "AQZrF_8i5CGX"
      }
    },
    {
      "cell_type": "code",
      "source": [],
      "metadata": {
        "id": "QE799orN5Cj6"
      },
      "execution_count": null,
      "outputs": []
    }
  ]
}